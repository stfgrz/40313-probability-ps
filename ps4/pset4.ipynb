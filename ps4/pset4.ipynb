{
 "cells": [
  {
   "cell_type": "markdown",
   "id": "7a56ba5d",
   "metadata": {},
   "source": [
    "# Problem Set IV - 40313 Introduction to Probability"
   ]
  },
  {
   "cell_type": "markdown",
   "id": "44a88bbf",
   "metadata": {},
   "source": [
    "## Question 1"
   ]
  },
  {
   "cell_type": "markdown",
   "id": "67ccfd2a",
   "metadata": {},
   "source": []
  },
  {
   "cell_type": "markdown",
   "id": "bd19fdb0",
   "metadata": {},
   "source": [
    "## Question 2"
   ]
  },
  {
   "cell_type": "markdown",
   "id": "de2c87bd",
   "metadata": {},
   "source": []
  }
 ],
 "metadata": {
  "language_info": {
   "name": "python"
  }
 },
 "nbformat": 4,
 "nbformat_minor": 5
}
